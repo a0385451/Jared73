{
  "nbformat": 4,
  "nbformat_minor": 0,
  "metadata": {
    "colab": {
      "provenance": [],
      "include_colab_link": true
    },
    "kernelspec": {
      "name": "python3",
      "display_name": "Python 3"
    },
    "language_info": {
      "name": "python"
    }
  },
  "cells": [
    {
      "cell_type": "markdown",
      "metadata": {
        "id": "view-in-github",
        "colab_type": "text"
      },
      "source": [
        "<a href=\"https://colab.research.google.com/github/a0385451/Jared73/blob/main/lesson2_1.ipynb\" target=\"_parent\"><img src=\"https://colab.research.google.com/assets/colab-badge.svg\" alt=\"Open In Colab\"/></a>"
      ]
    },
    {
      "cell_type": "code",
      "execution_count": null,
      "metadata": {
        "id": "MzMaz_bupBjw",
        "outputId": "fb11f595-082e-4908-9539-5458575e5020",
        "colab": {
          "base_uri": "https://localhost:8080/"
        }
      },
      "outputs": [
        {
          "output_type": "execute_result",
          "data": {
            "text/plain": [
              "14"
            ]
          },
          "metadata": {},
          "execution_count": 1
        }
      ],
      "source": [
        "2 + 3 * 4"
      ]
    },
    {
      "cell_type": "code",
      "source": [
        "(2 + 3) * 4"
      ],
      "metadata": {
        "id": "i5DUc_O4rueV",
        "outputId": "a75779cf-dc72-4e83-ea85-a7fbfba63e97",
        "colab": {
          "base_uri": "https://localhost:8080/"
        }
      },
      "execution_count": null,
      "outputs": [
        {
          "output_type": "execute_result",
          "data": {
            "text/plain": [
              "20"
            ]
          },
          "metadata": {},
          "execution_count": 2
        }
      ]
    },
    {
      "cell_type": "markdown",
      "source": [
        "- 會做6件事\n",
        "- 運算式->會傳出值\n",
        "\n",
        "**運算子的優先順序**\n",
        "- ()\n",
        "- \\**\n",
        "- \\* / % //\n",
        "- \\+ -\n",
        "- ="
      ],
      "metadata": {
        "id": "vzTqXWAzsv9b"
      }
    },
    {
      "cell_type": "markdown",
      "source": [
        "# HW:markdown語法"
      ],
      "metadata": {
        "id": "lkW00-BcvBCT"
      }
    },
    {
      "cell_type": "code",
      "source": [
        "2 * (1 + 2) ** 2 - 2 ** 2 * 2"
      ],
      "metadata": {
        "id": "YWsjuKcWr6yO",
        "outputId": "b3394784-f22f-4dfc-cc68-6759e34b036a",
        "colab": {
          "base_uri": "https://localhost:8080/"
        }
      },
      "execution_count": null,
      "outputs": [
        {
          "output_type": "execute_result",
          "data": {
            "text/plain": [
              "10"
            ]
          },
          "metadata": {},
          "execution_count": 3
        }
      ]
    },
    {
      "cell_type": "code",
      "source": [
        "12*(2+2)**3-2//3"
      ],
      "metadata": {
        "id": "DRS2xxBRvaMM",
        "outputId": "bfb84813-6513-4ce7-f5a2-00a144fdf0b1",
        "colab": {
          "base_uri": "https://localhost:8080/"
        }
      },
      "execution_count": 4,
      "outputs": [
        {
          "output_type": "execute_result",
          "data": {
            "text/plain": [
              "768"
            ]
          },
          "metadata": {},
          "execution_count": 4
        }
      ]
    }
  ]
}