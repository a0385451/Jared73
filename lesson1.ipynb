{
  "nbformat": 4,
  "nbformat_minor": 0,
  "metadata": {
    "colab": {
      "provenance": [],
      "authorship_tag": "ABX9TyMA6ETQjrZMbq/GTKsJqPXJ",
      "include_colab_link": true
    },
    "kernelspec": {
      "name": "python3",
      "display_name": "Python 3"
    },
    "language_info": {
      "name": "python"
    }
  },
  "cells": [
    {
      "cell_type": "markdown",
      "metadata": {
        "id": "view-in-github",
        "colab_type": "text"
      },
      "source": [
        "<a href=\"https://colab.research.google.com/github/a0385451/Jared73/blob/main/lesson1.ipynb\" target=\"_parent\"><img src=\"https://colab.research.google.com/assets/colab-badge.svg\" alt=\"Open In Colab\"/></a>"
      ]
    },
    {
      "cell_type": "code",
      "execution_count": null,
      "metadata": {
        "colab": {
          "base_uri": "https://localhost:8080/"
        },
        "id": "e5SHaXBgHIe0",
        "outputId": "c125a1b7-1a9d-4f76-eaef-72cfff4d55a3"
      },
      "outputs": [
        {
          "output_type": "stream",
          "name": "stdout",
          "text": [
            "Hello Jared\n"
          ]
        }
      ],
      "source": [
        "print(\"Hello Jared\")"
      ]
    },
    {
      "cell_type": "code",
      "source": [
        "print(9**3)\n",
        "print(80+1)\n",
        "print(7/2)\n",
        "print(7//2)\n",
        "print(7+2)\n",
        "print(7%3)"
      ],
      "metadata": {
        "colab": {
          "base_uri": "https://localhost:8080/"
        },
        "id": "iMBbXsxwRHxn",
        "outputId": "f24c215a-f1c9-433f-95bc-ed9d3f016687"
      },
      "execution_count": 10,
      "outputs": [
        {
          "output_type": "stream",
          "name": "stdout",
          "text": [
            "729\n",
            "81\n",
            "3.5\n",
            "3\n",
            "9\n",
            "1\n"
          ]
        }
      ]
    }
  ]
}