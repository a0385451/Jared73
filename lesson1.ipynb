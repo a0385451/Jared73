{
  "nbformat": 4,
  "nbformat_minor": 0,
  "metadata": {
    "colab": {
      "provenance": [],
      "authorship_tag": "ABX9TyNATnXJDFd7ieIcyciB9HgX",
      "include_colab_link": true
    },
    "kernelspec": {
      "name": "python3",
      "display_name": "Python 3"
    },
    "language_info": {
      "name": "python"
    }
  },
  "cells": [
    {
      "cell_type": "markdown",
      "metadata": {
        "id": "view-in-github",
        "colab_type": "text"
      },
      "source": [
        "<a href=\"https://colab.research.google.com/github/a0385451/Jared73/blob/main/lesson1.ipynb\" target=\"_parent\"><img src=\"https://colab.research.google.com/assets/colab-badge.svg\" alt=\"Open In Colab\"/></a>"
      ]
    },
    {
      "cell_type": "code",
      "execution_count": null,
      "metadata": {
        "colab": {
          "base_uri": "https://localhost:8080/"
        },
        "id": "e5SHaXBgHIe0",
        "outputId": "c125a1b7-1a9d-4f76-eaef-72cfff4d55a3"
      },
      "outputs": [
        {
          "output_type": "stream",
          "name": "stdout",
          "text": [
            "Hello Jared\n"
          ]
        }
      ],
      "source": [
        "print(\"Hello Jared\")"
      ]
    },
    {
      "cell_type": "code",
      "source": [
        "print(9**3)\n",
        "print(80+1)\n",
        "print(7/2)\n",
        "7//2\n",
        "7+2\n",
        "7%3"
      ],
      "metadata": {
        "id": "iMBbXsxwRHxn",
        "outputId": "bb0d9f42-ea5f-4c71-81da-af96319b7e98",
        "colab": {
          "base_uri": "https://localhost:8080/"
        }
      },
      "execution_count": 9,
      "outputs": [
        {
          "output_type": "stream",
          "name": "stdout",
          "text": [
            "729\n",
            "81\n",
            "3.5\n"
          ]
        },
        {
          "output_type": "execute_result",
          "data": {
            "text/plain": [
              "1"
            ]
          },
          "metadata": {},
          "execution_count": 9
        }
      ]
    }
  ]
}