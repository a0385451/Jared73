{
 "cells": [
  {
   "cell_type": "markdown",
   "id": "08cb5a7d",
   "metadata": {},
   "source": [
    "# Jared is best\n",
    "- Good job"
   ]
  },
  {
   "cell_type": "code",
   "execution_count": null,
   "id": "559057b9",
   "metadata": {},
   "outputs": [
    {
     "name": "stdout",
     "output_type": "stream",
     "text": [
      "87\n",
      "===============猜數字遊戲=================:\n",
      "\n"
     ]
    }
   ],
   "source": [
    "import random\n",
    "\n",
    "def play_game():\n",
    "    min = 1\n",
    "    max = 100\n",
    "    count = 0\n",
    "    target = random.randint(1, 100)\n",
    "    print(target)\n",
    "    print(\"===============猜數字遊戲=================:\\n\")\n",
    "    while(True):\n",
    "        count += 1\n",
    "        keyin = int(input(\"猜數字範圍{0}~{1}:\".format(min, max)))\n",
    "        if(keyin >=min and keyin <= max):\n",
    "            if(keyin == target):\n",
    "                print(\"賓果!猜對了, 答案是:\", target)\n",
    "                print(\"您猜了\",count,\"次\")\n",
    "                break\n",
    "            elif (keyin > target):\n",
    "                max = keyin\n",
    "                print(\"再小一點\")\n",
    "            elif (keyin < target):\n",
    "                min = keyin\n",
    "                print(\"再大一點\")\n",
    "            print(\"您猜了\",count,\"次\\n\")\n",
    "        else:\n",
    "            print(\"請輸入提示範圍內的數字\")\n",
    "\n",
    "while(True):\n",
    "    play_game()\n",
    "    play_again = input(\"再玩一次(y,n):\")\n",
    "    if(play_again == 'n'):\n",
    "        break\n",
    "\n",
    "print(\"遊戲結束\")"
   ]
  }
 ],
 "metadata": {
  "kernelspec": {
   "display_name": "myenv",
   "language": "python",
   "name": "python3"
  },
  "language_info": {
   "codemirror_mode": {
    "name": "ipython",
    "version": 3
   },
   "file_extension": ".py",
   "mimetype": "text/x-python",
   "name": "python",
   "nbconvert_exporter": "python",
   "pygments_lexer": "ipython3",
   "version": "3.10.16"
  }
 },
 "nbformat": 4,
 "nbformat_minor": 5
}
