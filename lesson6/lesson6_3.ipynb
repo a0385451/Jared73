{
 "cells": [
  {
   "cell_type": "markdown",
   "id": "08cb5a7d",
   "metadata": {},
   "source": [
    "# Jared is best\n",
    "- Good job"
   ]
  },
  {
   "cell_type": "code",
   "execution_count": 2,
   "id": "9686e015",
   "metadata": {},
   "outputs": [
    {
     "name": "stdout",
     "output_type": "stream",
     "text": [
      "hello\n"
     ]
    }
   ],
   "source": [
    "print(\"hello\")"
   ]
  }
 ],
 "metadata": {
  "kernelspec": {
   "display_name": "myenv",
   "language": "python",
   "name": "python3"
  },
  "language_info": {
   "codemirror_mode": {
    "name": "ipython",
    "version": 3
   },
   "file_extension": ".py",
   "mimetype": "text/x-python",
   "name": "python",
   "nbconvert_exporter": "python",
   "pygments_lexer": "ipython3",
   "version": "3.10.16"
  }
 },
 "nbformat": 4,
 "nbformat_minor": 5
}
