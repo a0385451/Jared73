{
  "nbformat": 4,
  "nbformat_minor": 0,
  "metadata": {
    "colab": {
      "provenance": [],
      "include_colab_link": true
    },
    "kernelspec": {
      "name": "python3",
      "display_name": "Python 3"
    },
    "language_info": {
      "name": "python"
    }
  },
  "cells": [
    {
      "cell_type": "markdown",
      "metadata": {
        "id": "view-in-github",
        "colab_type": "text"
      },
      "source": [
        "<a href=\"https://colab.research.google.com/github/a0385451/Jared73/blob/main/lesson4_2.ipynb\" target=\"_parent\"><img src=\"https://colab.research.google.com/assets/colab-badge.svg\" alt=\"Open In Colab\"/></a>"
      ]
    },
    {
      "cell_type": "markdown",
      "source": [
        "# python while迴圈說明\n",
        "\n",
        "---\n",
        "\n",
        "Python 的 while 迴圈用來根據條件判斷，重複執行某段程式碼，直到條件不成立為止。其基本語法如下：\n",
        "\n",
        "```\n",
        "while 條件:\n",
        "    程式區塊\n",
        "```\n",
        "\n",
        "•\t當條件為 True 時，會執行縮排的程式區塊。  \n",
        "•\t每次執行完程式區塊後，會再次檢查條件，若仍為 True，則繼續執行迴圈。  \n",
        "•\t當條件變為 False，迴圈結束，程式往下繼續執行。"
      ],
      "metadata": {
        "id": "zcDHxtwK8Ggo"
      }
    },
    {
      "cell_type": "code",
      "execution_count": null,
      "metadata": {
        "id": "UoU5Yb0N7498"
      },
      "outputs": [],
      "source": [
        "count = 1\n",
        "while count <= 5:\n",
        "    print(count)\n",
        "    count += 1"
      ]
    },
    {
      "cell_type": "code",
      "source": [
        "total = 0\n",
        "while True:\n",
        "    num = int(input(\"請輸入一個數字（輸入 0 結束）：\"))\n",
        "    if num == 0:\n",
        "        break\n",
        "    total += num\n",
        "print(\"總和：\", total)"
      ],
      "metadata": {
        "id": "c-Dto-NL_c7F",
        "outputId": "80da43bb-fc61-4fb3-e4c0-04f51696507d",
        "colab": {
          "base_uri": "https://localhost:8080/"
        }
      },
      "execution_count": 6,
      "outputs": [
        {
          "output_type": "stream",
          "name": "stdout",
          "text": [
            "請輸入一個數字（輸入 0 結束）：5\n",
            "請輸入一個數字（輸入 0 結束）：6\n",
            "請輸入一個數字（輸入 0 結束）：7\n",
            "請輸入一個數字（輸入 0 結束）：8\n",
            "請輸入一個數字（輸入 0 結束）：0\n",
            "總和： 26\n"
          ]
        }
      ]
    },
    {
      "cell_type": "code",
      "source": [
        "total=10\n",
        "while True:\n",
        "  num=int(input(\"please input number:\"))\n",
        "  if num==1:\n",
        "    break\n",
        "  total+=num\n",
        "  print(\"Sum:\",total)\n",
        "print(\"Grand total\",total)"
      ],
      "metadata": {
        "id": "RKe27bU3DStr",
        "outputId": "5754fa48-6ba1-4bc3-d1cb-33af09245cfe",
        "colab": {
          "base_uri": "https://localhost:8080/"
        }
      },
      "execution_count": 14,
      "outputs": [
        {
          "output_type": "stream",
          "name": "stdout",
          "text": [
            "please input number:2\n",
            "Sum: 12\n",
            "please input number:3\n",
            "Sum: 15\n",
            "please input number:4\n",
            "Sum: 19\n",
            "please input number:5\n",
            "Sum: 24\n",
            "please input number:7\n",
            "Sum: 31\n",
            "please input number:56\n",
            "Sum: 87\n",
            "please input number:3\n",
            "Sum: 90\n",
            "please input number:1\n",
            "Grand total 90\n"
          ]
        }
      ]
    }
  ]
}