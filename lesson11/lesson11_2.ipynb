{
 "cells": [
  {
   "cell_type": "markdown",
   "id": "8f32a367",
   "metadata": {},
   "source": [
    "https://www.perplexity.ai/search/4a4e39d4-a079-4907-b920-6e7fe47050c6"
   ]
  },
  {
   "cell_type": "code",
   "execution_count": 2,
   "id": "c92a108f",
   "metadata": {},
   "outputs": [
    {
     "data": {
      "text/plain": [
       "array([69, 96, 92])"
      ]
     },
     "execution_count": 2,
     "metadata": {},
     "output_type": "execute_result"
    }
   ],
   "source": [
    "import numpy as np\n",
    "from numpy import ndarray\n",
    "\n",
    "students:ndarray = np.array([[79, 93, 69, 96, 92],\n",
    "                            [66, 76, 64, 85, 87]])\n",
    "\n",
    "#利用索引,slicing\n",
    "students[0] #取得第1位學生資料\n",
    "students[1] #取得第2位學生資料\n",
    "students[1,:3] #取得第2位學生資料,前3科分數\n",
    "students[0,-3:] #取得第1位學生資料,後3科分數\n",
    "\n"
   ]
  },
  {
   "cell_type": "code",
   "execution_count": 40,
   "id": "14c159b1",
   "metadata": {},
   "outputs": [
    {
     "data": {
      "text/plain": [
       "array([79, 93, 69, 96, 92])"
      ]
     },
     "execution_count": 40,
     "metadata": {},
     "output_type": "execute_result"
    }
   ],
   "source": [
    "import numpy as np\n",
    "from numpy import ndarray\n",
    "students:ndarray = np.array([[79, 93, 69, 96, 92],\n",
    "                            [66, 76, 64, 85, 87]])\n",
    "students[0,:5] #:以後代表不包含,所以只會出現0,1,2,3,4所以會出現0,1,2,3,4\n"
   ]
  },
  {
   "cell_type": "markdown",
   "id": "59abc735",
   "metadata": {},
   "source": []
  },
  {
   "cell_type": "code",
   "execution_count": 1,
   "id": "bf4e89ba",
   "metadata": {},
   "outputs": [
    {
     "name": "stdout",
     "output_type": "stream",
     "text": [
      "Collecting wget\n",
      "  Downloading wget-3.2.zip (10 kB)\n",
      "  Preparing metadata (setup.py): started\n",
      "  Preparing metadata (setup.py): finished with status 'done'\n",
      "Building wheels for collected packages: wget\n",
      "  Building wheel for wget (setup.py): started\n",
      "  Building wheel for wget (setup.py): finished with status 'done'\n",
      "  Created wheel for wget: filename=wget-3.2-py3-none-any.whl size=9712 sha256=a2fa2ef0b63e2196dc3294e7c4a51f03dd422d70d3a2bfd30352bb81b290cf9a\n",
      "  Stored in directory: c:\\users\\a0385\\appdata\\local\\pip\\cache\\wheels\\8b\\f1\\7f\\5c94f0a7a505ca1c81cd1d9208ae2064675d97582078e6c769\n",
      "Successfully built wget\n",
      "Installing collected packages: wget\n",
      "Successfully installed wget-3.2\n",
      "Note: you may need to restart the kernel to use updated packages.\n"
     ]
    },
    {
     "name": "stderr",
     "output_type": "stream",
     "text": [
      "  DEPRECATION: Building 'wget' using the legacy setup.py bdist_wheel mechanism, which will be removed in a future version. pip 25.3 will enforce this behaviour change. A possible replacement is to use the standardized build interface by setting the `--use-pep517` option, (possibly combined with `--no-build-isolation`), or adding a `pyproject.toml` file to the source tree of 'wget'. Discussion can be found at https://github.com/pypa/pip/issues/6334\n"
     ]
    }
   ],
   "source": [
    "%pip install wget"
   ]
  }
 ],
 "metadata": {
  "kernelspec": {
   "display_name": "chihlee1",
   "language": "python",
   "name": "python3"
  },
  "language_info": {
   "codemirror_mode": {
    "name": "ipython",
    "version": 3
   },
   "file_extension": ".py",
   "mimetype": "text/x-python",
   "name": "python",
   "nbconvert_exporter": "python",
   "pygments_lexer": "ipython3",
   "version": "3.10.16"
  }
 },
 "nbformat": 4,
 "nbformat_minor": 5
}
