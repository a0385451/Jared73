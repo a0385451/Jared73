{
 "cells": [
  {
   "cell_type": "markdown",
   "id": "c07e2219",
   "metadata": {},
   "source": [
    "https://www.perplexity.ai/search/72794e36-7b92-4a94-8fa2-8fd264bef9ad"
   ]
  },
  {
   "cell_type": "code",
   "execution_count": null,
   "id": "09d1140b",
   "metadata": {},
   "outputs": [],
   "source": [
    "import pandas as pd\n",
    "df = pd.read_csv('taiwan.csv')\n",
    "display(df)"
   ]
  },
  {
   "cell_type": "code",
   "execution_count": null,
   "id": "e981b785",
   "metadata": {},
   "outputs": [],
   "source": [
    "df.info()"
   ]
  },
  {
   "cell_type": "code",
   "execution_count": null,
   "id": "21a8b4b5",
   "metadata": {},
   "outputs": [],
   "source": [
    "df[[\"日期\",\"總確診數\"]] #透過欄"
   ]
  },
  {
   "cell_type": "code",
   "execution_count": null,
   "id": "f2ea1d87",
   "metadata": {},
   "outputs": [],
   "source": [
    "df.iloc[:5]\n",
    "df.loc[[0,1,2,3,4]]\n",
    "df1 = df.iloc[700:710]\n",
    "mask = df1['新增確診數'] >= 12\n",
    "df1[mask]"
   ]
  },
  {
   "cell_type": "code",
   "execution_count": 12,
   "id": "33c63778",
   "metadata": {},
   "outputs": [
    {
     "data": {
      "text/plain": [
       "0       True\n",
       "1       True\n",
       "2       True\n",
       "3       True\n",
       "4       True\n",
       "       ...  \n",
       "898    False\n",
       "899    False\n",
       "900    False\n",
       "901    False\n",
       "902    False\n",
       "Name: 日期, Length: 903, dtype: bool"
      ]
     },
     "execution_count": 12,
     "metadata": {},
     "output_type": "execute_result"
    }
   ],
   "source": [
    "df['日期'] <= '2020-01-20'"
   ]
  },
  {
   "cell_type": "code",
   "execution_count": null,
   "id": "aee47984",
   "metadata": {},
   "outputs": [],
   "source": [
    "mask = (df['日期']  >= \"2020-01-20\") & (df['日期'] < \"2020-02-01\")\n",
    "df[mask]\n"
   ]
  },
  {
   "cell_type": "code",
   "execution_count": 14,
   "id": "842f8fa7",
   "metadata": {},
   "outputs": [
    {
     "data": {
      "text/html": [
       "<div>\n",
       "<style scoped>\n",
       "    .dataframe tbody tr th:only-of-type {\n",
       "        vertical-align: middle;\n",
       "    }\n",
       "\n",
       "    .dataframe tbody tr th {\n",
       "        vertical-align: top;\n",
       "    }\n",
       "\n",
       "    .dataframe thead th {\n",
       "        text-align: right;\n",
       "    }\n",
       "</style>\n",
       "<table border=\"1\" class=\"dataframe\">\n",
       "  <thead>\n",
       "    <tr style=\"text-align: right;\">\n",
       "      <th></th>\n",
       "      <th>國家</th>\n",
       "      <th>日期</th>\n",
       "      <th>總確診數</th>\n",
       "      <th>新增確診數</th>\n",
       "      <th>新增死亡數</th>\n",
       "    </tr>\n",
       "  </thead>\n",
       "  <tbody>\n",
       "    <tr>\n",
       "      <th>11</th>\n",
       "      <td>台灣</td>\n",
       "      <td>2020-01-27</td>\n",
       "      <td>5</td>\n",
       "      <td>1</td>\n",
       "      <td>0</td>\n",
       "    </tr>\n",
       "    <tr>\n",
       "      <th>12</th>\n",
       "      <td>台灣</td>\n",
       "      <td>2020-01-28</td>\n",
       "      <td>8</td>\n",
       "      <td>3</td>\n",
       "      <td>0</td>\n",
       "    </tr>\n",
       "    <tr>\n",
       "      <th>13</th>\n",
       "      <td>台灣</td>\n",
       "      <td>2020-01-29</td>\n",
       "      <td>8</td>\n",
       "      <td>0</td>\n",
       "      <td>0</td>\n",
       "    </tr>\n",
       "    <tr>\n",
       "      <th>14</th>\n",
       "      <td>台灣</td>\n",
       "      <td>2020-01-30</td>\n",
       "      <td>9</td>\n",
       "      <td>1</td>\n",
       "      <td>0</td>\n",
       "    </tr>\n",
       "    <tr>\n",
       "      <th>15</th>\n",
       "      <td>台灣</td>\n",
       "      <td>2020-01-31</td>\n",
       "      <td>10</td>\n",
       "      <td>1</td>\n",
       "      <td>0</td>\n",
       "    </tr>\n",
       "  </tbody>\n",
       "</table>\n",
       "</div>"
      ],
      "text/plain": [
       "    國家          日期  總確診數  新增確診數  新增死亡數\n",
       "11  台灣  2020-01-27     5      1      0\n",
       "12  台灣  2020-01-28     8      3      0\n",
       "13  台灣  2020-01-29     8      0      0\n",
       "14  台灣  2020-01-30     9      1      0\n",
       "15  台灣  2020-01-31    10      1      0"
      ]
     },
     "execution_count": 14,
     "metadata": {},
     "output_type": "execute_result"
    }
   ],
   "source": [
    "#實體方法query(字串)\n",
    "df.query('日期>=\"2020-01-20\" and 日期<\"2020-02-01\" and 總確診數 >= 5')\n"
   ]
  },
  {
   "cell_type": "code",
   "execution_count": null,
   "id": "1bd8197b",
   "metadata": {},
   "outputs": [],
   "source": []
  }
 ],
 "metadata": {
  "kernelspec": {
   "display_name": "chihlee",
   "language": "python",
   "name": "python3"
  },
  "language_info": {
   "codemirror_mode": {
    "name": "ipython",
    "version": 3
   },
   "file_extension": ".py",
   "mimetype": "text/x-python",
   "name": "python",
   "nbconvert_exporter": "python",
   "pygments_lexer": "ipython3",
   "version": "3.10.18"
  }
 },
 "nbformat": 4,
 "nbformat_minor": 5
}
